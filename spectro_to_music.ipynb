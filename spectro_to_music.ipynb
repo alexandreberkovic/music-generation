{
 "cells": [
  {
   "cell_type": "code",
   "execution_count": 1,
   "metadata": {},
   "outputs": [],
   "source": [
    "from PIL import Image\n",
    "import numpy as np\n",
    "from scipy.signal import istft\n",
    "from scipy.io import wavfile\n",
    "import pydub\n",
    "import torch\n",
    "import torchaudio\n",
    "\n",
    "from __future__ import annotations\n",
    "import typing as T\n",
    "from dataclasses import dataclass\n",
    "from enum import Enum\n",
    "\n",
    "from riffusion.spectrogram_converter import SpectrogramConverter\n",
    "from riffusion.spectrogram_params import SpectrogramParams\n",
    "from riffusion.spectrogram_image_converter import SpectrogramImageConverter\n",
    "from riffusion.util import image_util"
   ]
  },
  {
   "cell_type": "code",
   "execution_count": 2,
   "metadata": {},
   "outputs": [],
   "source": [
    "# Load spectrogram image and color scale\n",
    "img_stereo = Image.open('test/sample_stereo.png')\n",
    "img_mono = Image.open('test/sample_mono.png')\n",
    "trial = Image.open('test/trial.png')\n",
    "# oscar = Image.open('../spectrogram_folder/-_6RxZyi30Q.png')\n",
    "oscar = Image.open('../spectrogram_folder/-OAyRsvFGgc.png')\n",
    "alex = Image.open('rap.jpg')\n"
   ]
  },
  {
   "attachments": {},
   "cell_type": "markdown",
   "metadata": {},
   "source": [
    "Define the parameters for mono and stereo"
   ]
  },
  {
   "cell_type": "code",
   "execution_count": 3,
   "metadata": {},
   "outputs": [],
   "source": [
    "params = SpectrogramParams()"
   ]
  },
  {
   "cell_type": "code",
   "execution_count": 4,
   "metadata": {},
   "outputs": [
    {
     "data": {
      "text/plain": [
       "SpectrogramParams(stereo=False, sample_rate=44100, step_size_ms=10, window_duration_ms=100, padded_duration_ms=400, num_frequencies=512, min_frequency=0, max_frequency=10000, mel_scale_norm=None, mel_scale_type='htk', max_mel_iters=200, num_griffin_lim_iters=32, power_for_image=0.25)"
      ]
     },
     "execution_count": 4,
     "metadata": {},
     "output_type": "execute_result"
    }
   ],
   "source": [
    "params"
   ]
  },
  {
   "cell_type": "code",
   "execution_count": 5,
   "metadata": {},
   "outputs": [],
   "source": [
    "params_stereo = SpectrogramParams(stereo=True)"
   ]
  },
  {
   "cell_type": "code",
   "execution_count": 6,
   "metadata": {},
   "outputs": [
    {
     "data": {
      "text/plain": [
       "SpectrogramParams(stereo=True, sample_rate=44100, step_size_ms=10, window_duration_ms=100, padded_duration_ms=400, num_frequencies=512, min_frequency=0, max_frequency=10000, mel_scale_norm=None, mel_scale_type='htk', max_mel_iters=200, num_griffin_lim_iters=32, power_for_image=0.25)"
      ]
     },
     "execution_count": 6,
     "metadata": {},
     "output_type": "execute_result"
    }
   ],
   "source": [
    "params_stereo"
   ]
  },
  {
   "attachments": {},
   "cell_type": "markdown",
   "metadata": {},
   "source": [
    "Create the different converters"
   ]
  },
  {
   "cell_type": "code",
   "execution_count": 7,
   "metadata": {},
   "outputs": [
    {
     "name": "stderr",
     "output_type": "stream",
     "text": [
      "/Users/alexandreberkovic/Desktop/MIT/15.S04/music_generation/riffusion/spectrogram_image_converter.py:21: UserWarning: WARNING: cuda is not available, using cpu instead.\n",
      "  self.converter = SpectrogramConverter(params=params, device=device)\n"
     ]
    }
   ],
   "source": [
    "# Create SpectrogramImageConverter object\n",
    "converter = SpectrogramImageConverter(params)"
   ]
  },
  {
   "cell_type": "code",
   "execution_count": 9,
   "metadata": {},
   "outputs": [],
   "source": [
    "# Create SpectrogramImageConverter object\n",
    "converter_stereo = SpectrogramImageConverter(params_stereo)"
   ]
  },
  {
   "attachments": {},
   "cell_type": "markdown",
   "metadata": {},
   "source": [
    "Stereo segment"
   ]
  },
  {
   "cell_type": "code",
   "execution_count": 65,
   "metadata": {},
   "outputs": [],
   "source": [
    "# Convert spectrogram image to audio segment\n",
    "segment_stereo = converter_stereo.audio_from_spectrogram_image(img_stereo, apply_filters=True, max_value=30e6)"
   ]
  },
  {
   "cell_type": "code",
   "execution_count": 66,
   "metadata": {},
   "outputs": [
    {
     "data": {
      "text/plain": [
       "<_io.BufferedRandom name='test/output_stereo.wav'>"
      ]
     },
     "execution_count": 66,
     "metadata": {},
     "output_type": "execute_result"
    }
   ],
   "source": [
    "# Play audio segment\n",
    "segment_stereo.export(\"test/output_stereo.wav\", format=\"wav\")"
   ]
  },
  {
   "attachments": {},
   "cell_type": "markdown",
   "metadata": {},
   "source": [
    "Mono segment"
   ]
  },
  {
   "cell_type": "code",
   "execution_count": 8,
   "metadata": {},
   "outputs": [],
   "source": [
    "# Convert spectrogram image to audio segment\n",
    "segment_mono = converter.audio_from_spectrogram_image(alex, apply_filters=True, max_value=30e6)"
   ]
  },
  {
   "cell_type": "code",
   "execution_count": 9,
   "metadata": {},
   "outputs": [
    {
     "data": {
      "text/plain": [
       "<_io.BufferedRandom name='test/blues.wav'>"
      ]
     },
     "execution_count": 9,
     "metadata": {},
     "output_type": "execute_result"
    }
   ],
   "source": [
    "# Play audio segment\n",
    "segment_mono.export(\"test/blues.wav\", format=\"wav\")"
   ]
  },
  {
   "attachments": {},
   "cell_type": "markdown",
   "metadata": {},
   "source": [
    "Trial segment"
   ]
  },
  {
   "cell_type": "code",
   "execution_count": 10,
   "metadata": {},
   "outputs": [],
   "source": [
    "# Convert spectrogram image to audio segment\n",
    "trial_mono = converter.audio_from_spectrogram_image(trial, apply_filters=True, max_value=30e6)\n",
    "trial_stereo = converter_stereo.audio_from_spectrogram_image(trial, apply_filters=True, max_value=30e6)"
   ]
  },
  {
   "cell_type": "code",
   "execution_count": 11,
   "metadata": {},
   "outputs": [
    {
     "data": {
      "text/plain": [
       "<_io.BufferedRandom name='test/trial_stereo.wav'>"
      ]
     },
     "execution_count": 11,
     "metadata": {},
     "output_type": "execute_result"
    }
   ],
   "source": [
    "# Play audio segment\n",
    "trial_mono.export(\"test/trial_mono.wav\", format=\"wav\")\n",
    "trial_stereo.export(\"test/trial_stereo.wav\", format=\"wav\")"
   ]
  },
  {
   "attachments": {},
   "cell_type": "markdown",
   "metadata": {},
   "source": [
    "Oscar file"
   ]
  },
  {
   "cell_type": "code",
   "execution_count": 28,
   "metadata": {},
   "outputs": [],
   "source": [
    "params = SpectrogramParams(stereo = True, num_frequencies=385)"
   ]
  },
  {
   "cell_type": "code",
   "execution_count": 29,
   "metadata": {},
   "outputs": [
    {
     "data": {
      "text/plain": [
       "SpectrogramParams(stereo=True, sample_rate=44100, step_size_ms=10, window_duration_ms=100, padded_duration_ms=400, num_frequencies=385, min_frequency=0, max_frequency=10000, mel_scale_norm=None, mel_scale_type='htk', max_mel_iters=200, num_griffin_lim_iters=32, power_for_image=0.25)"
      ]
     },
     "execution_count": 29,
     "metadata": {},
     "output_type": "execute_result"
    }
   ],
   "source": [
    "params"
   ]
  },
  {
   "cell_type": "code",
   "execution_count": 30,
   "metadata": {},
   "outputs": [],
   "source": [
    "# Create SpectrogramImageConverter object\n",
    "converter_oscar = SpectrogramImageConverter(params)"
   ]
  },
  {
   "cell_type": "code",
   "execution_count": 31,
   "metadata": {},
   "outputs": [],
   "source": [
    "oscar_segment = converter_oscar.audio_from_spectrogram_image(oscar, apply_filters=True, max_value=30e6)"
   ]
  },
  {
   "cell_type": "code",
   "execution_count": 32,
   "metadata": {},
   "outputs": [
    {
     "data": {
      "text/plain": [
       "<_io.BufferedRandom name='test/oscar3.wav'>"
      ]
     },
     "execution_count": 32,
     "metadata": {},
     "output_type": "execute_result"
    }
   ],
   "source": [
    "oscar_segment.export(\"test/oscar3.wav\", format=\"wav\")"
   ]
  },
  {
   "attachments": {},
   "cell_type": "markdown",
   "metadata": {},
   "source": [
    "Using the HuggingFace dataset "
   ]
  },
  {
   "cell_type": "code",
   "execution_count": 41,
   "metadata": {},
   "outputs": [],
   "source": [
    "riffusion_stereo = Image.open('test/riffusion_stereo.jpeg')\n",
    "riffusion_mono = Image.open('test/riffusion_mono.jpeg')"
   ]
  },
  {
   "cell_type": "code",
   "execution_count": 50,
   "metadata": {},
   "outputs": [],
   "source": [
    "params_mono = SpectrogramParams()"
   ]
  },
  {
   "cell_type": "code",
   "execution_count": 51,
   "metadata": {},
   "outputs": [
    {
     "data": {
      "text/plain": [
       "SpectrogramParams(stereo=False, sample_rate=44100, step_size_ms=10, window_duration_ms=100, padded_duration_ms=400, num_frequencies=512, min_frequency=0, max_frequency=10000, mel_scale_norm=None, mel_scale_type='htk', max_mel_iters=200, num_griffin_lim_iters=32, power_for_image=0.25)"
      ]
     },
     "execution_count": 51,
     "metadata": {},
     "output_type": "execute_result"
    }
   ],
   "source": [
    "params_mono"
   ]
  },
  {
   "cell_type": "code",
   "execution_count": 52,
   "metadata": {},
   "outputs": [],
   "source": [
    "param_stereo = SpectrogramParams(stereo=True, num_frequencies = 768)"
   ]
  },
  {
   "cell_type": "code",
   "execution_count": 53,
   "metadata": {},
   "outputs": [
    {
     "name": "stderr",
     "output_type": "stream",
     "text": [
      "/Users/alexandreberkovic/Desktop/MIT/15.S04/music_generation/riffusion/spectrogram_image_converter.py:21: UserWarning: WARNING: cuda is not available, using cpu instead.\n",
      "  self.converter = SpectrogramConverter(params=params, device=device)\n"
     ]
    }
   ],
   "source": [
    "# Create SpectrogramImageConverter object\n",
    "converter_riffusion_mono = SpectrogramImageConverter(params_mono)\n",
    "converter_riffusion_stereo = SpectrogramImageConverter(param_stereo)\n"
   ]
  },
  {
   "cell_type": "code",
   "execution_count": 44,
   "metadata": {},
   "outputs": [],
   "source": [
    "# Convert spectrogram image to audio segment\n",
    "riffusion_mono = converter_riffusion_mono.audio_from_spectrogram_image(riffusion_mono, apply_filters=True, max_value=30e6)"
   ]
  },
  {
   "cell_type": "code",
   "execution_count": 54,
   "metadata": {},
   "outputs": [],
   "source": [
    "riffusion_stereo = converter_riffusion_stereo.audio_from_spectrogram_image(riffusion_stereo, apply_filters=True, max_value=30e6)"
   ]
  },
  {
   "cell_type": "code",
   "execution_count": 37,
   "metadata": {},
   "outputs": [
    {
     "data": {
      "text/plain": [
       "<_io.BufferedRandom name='test/riffusion_mono.wav'>"
      ]
     },
     "execution_count": 37,
     "metadata": {},
     "output_type": "execute_result"
    }
   ],
   "source": [
    "# Play audio segment\n",
    "riffusion_mono.export(\"test/riffusion_mono.wav\", format=\"wav\")"
   ]
  },
  {
   "cell_type": "code",
   "execution_count": 55,
   "metadata": {},
   "outputs": [
    {
     "data": {
      "text/plain": [
       "<_io.BufferedRandom name='test/riffusion_stereo.wav'>"
      ]
     },
     "execution_count": 55,
     "metadata": {},
     "output_type": "execute_result"
    }
   ],
   "source": [
    "riffusion_stereo.export(\"test/riffusion_stereo.wav\", format=\"wav\")"
   ]
  }
 ],
 "metadata": {
  "kernelspec": {
   "display_name": "Python 3",
   "language": "python",
   "name": "python3"
  },
  "language_info": {
   "codemirror_mode": {
    "name": "ipython",
    "version": 3
   },
   "file_extension": ".py",
   "mimetype": "text/x-python",
   "name": "python",
   "nbconvert_exporter": "python",
   "pygments_lexer": "ipython3",
   "version": "3.9.6"
  },
  "orig_nbformat": 4
 },
 "nbformat": 4,
 "nbformat_minor": 2
}
