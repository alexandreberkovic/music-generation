{
 "cells": [
  {
   "cell_type": "code",
   "execution_count": 22,
   "metadata": {},
   "outputs": [],
   "source": [
    "from PIL import Image\n",
    "import numpy as np\n",
    "from scipy.signal import istft\n",
    "from scipy.io import wavfile\n",
    "import pydub\n",
    "import torch\n",
    "import torchaudio"
   ]
  },
  {
   "cell_type": "code",
   "execution_count": 18,
   "metadata": {},
   "outputs": [],
   "source": [
    "from __future__ import annotations\n",
    "\n",
    "import typing as T\n",
    "from dataclasses import dataclass\n",
    "from enum import Enum"
   ]
  },
  {
   "cell_type": "code",
   "execution_count": 54,
   "metadata": {},
   "outputs": [],
   "source": [
    "# Load spectrogram image and color scale\n",
    "# img = Image.open('../spectrogram_folder/-_6RxZyi30Q.png')\n",
    "img1 = Image.open('sample_RGB.png')\n",
    "img2 = Image.open('sample_grey.png')\n",
    "# img_data = np.array(img)"
   ]
  },
  {
   "cell_type": "code",
   "execution_count": 38,
   "metadata": {},
   "outputs": [],
   "source": [
    "from riffusion.spectrogram_converter import SpectrogramConverter\n",
    "from riffusion.spectrogram_params import SpectrogramParams\n",
    "from riffusion.spectrogram_image_converter import SpectrogramImageConverter\n",
    "from riffusion.util import image_util"
   ]
  },
  {
   "cell_type": "code",
   "execution_count": 43,
   "metadata": {},
   "outputs": [],
   "source": [
    "params = SpectrogramParams()"
   ]
  },
  {
   "cell_type": "code",
   "execution_count": 44,
   "metadata": {},
   "outputs": [
    {
     "data": {
      "text/plain": [
       "SpectrogramParams(stereo=False, sample_rate=44100, step_size_ms=10, window_duration_ms=100, padded_duration_ms=400, num_frequencies=512, min_frequency=0, max_frequency=10000, mel_scale_norm=None, mel_scale_type='htk', max_mel_iters=200, num_griffin_lim_iters=32, power_for_image=0.25)"
      ]
     },
     "execution_count": 44,
     "metadata": {},
     "output_type": "execute_result"
    }
   ],
   "source": [
    "params"
   ]
  },
  {
   "cell_type": "code",
   "execution_count": 45,
   "metadata": {},
   "outputs": [
    {
     "name": "stderr",
     "output_type": "stream",
     "text": [
      "/Users/alexandreberkovic/Desktop/MIT/15.S04/music_generation/riffusion/spectrogram_image_converter.py:21: UserWarning: WARNING: cuda is not available, using cpu instead.\n",
      "  self.converter = SpectrogramConverter(params=params, device=device)\n"
     ]
    }
   ],
   "source": [
    "# Create SpectrogramImageConverter object\n",
    "converter = SpectrogramImageConverter(params)"
   ]
  },
  {
   "cell_type": "code",
   "execution_count": 55,
   "metadata": {},
   "outputs": [],
   "source": [
    "# Convert spectrogram image to audio segment\n",
    "segment1 = converter.audio_from_spectrogram_image(img1, apply_filters=True, max_value=30e6)"
   ]
  },
  {
   "cell_type": "code",
   "execution_count": 56,
   "metadata": {},
   "outputs": [
    {
     "data": {
      "text/plain": [
       "<_io.BufferedRandom name='output1.wav'>"
      ]
     },
     "execution_count": 56,
     "metadata": {},
     "output_type": "execute_result"
    }
   ],
   "source": [
    "# Play audio segment\n",
    "segment1.export(\"output1.wav\", format=\"wav\")"
   ]
  },
  {
   "cell_type": "code",
   "execution_count": 57,
   "metadata": {},
   "outputs": [],
   "source": [
    "# Convert spectrogram image to audio segment\n",
    "segment2 = converter.audio_from_spectrogram_image(img2, apply_filters=True, max_value=30e6)"
   ]
  },
  {
   "cell_type": "code",
   "execution_count": 58,
   "metadata": {},
   "outputs": [
    {
     "data": {
      "text/plain": [
       "<_io.BufferedRandom name='output2.wav'>"
      ]
     },
     "execution_count": 58,
     "metadata": {},
     "output_type": "execute_result"
    }
   ],
   "source": [
    "# Play audio segment\n",
    "segment2.export(\"output2.wav\", format=\"wav\")"
   ]
  }
 ],
 "metadata": {
  "kernelspec": {
   "display_name": "Python 3",
   "language": "python",
   "name": "python3"
  },
  "language_info": {
   "codemirror_mode": {
    "name": "ipython",
    "version": 3
   },
   "file_extension": ".py",
   "mimetype": "text/x-python",
   "name": "python",
   "nbconvert_exporter": "python",
   "pygments_lexer": "ipython3",
   "version": "3.9.6"
  },
  "orig_nbformat": 4
 },
 "nbformat": 4,
 "nbformat_minor": 2
}
