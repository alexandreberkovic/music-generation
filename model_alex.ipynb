{
 "cells": [
  {
   "cell_type": "code",
   "execution_count": 1,
   "metadata": {},
   "outputs": [],
   "source": [
    "import pandas as pd\n",
    "import numpy as np  \n",
    "import matplotlib.pyplot as plt\n",
    "import PIL"
   ]
  },
  {
   "cell_type": "code",
   "execution_count": 2,
   "metadata": {},
   "outputs": [],
   "source": [
    "mono = pd.read_csv('../hugging_face_data/data_mono.csv')\n",
    "stereo = pd.read_csv('../hugging_face_data/data_stereo.csv')"
   ]
  },
  {
   "cell_type": "code",
   "execution_count": 3,
   "metadata": {},
   "outputs": [
    {
     "data": {
      "text/html": [
       "<div>\n",
       "<style scoped>\n",
       "    .dataframe tbody tr th:only-of-type {\n",
       "        vertical-align: middle;\n",
       "    }\n",
       "\n",
       "    .dataframe tbody tr th {\n",
       "        vertical-align: top;\n",
       "    }\n",
       "\n",
       "    .dataframe thead th {\n",
       "        text-align: right;\n",
       "    }\n",
       "</style>\n",
       "<table border=\"1\" class=\"dataframe\">\n",
       "  <thead>\n",
       "    <tr style=\"text-align: right;\">\n",
       "      <th></th>\n",
       "      <th>image</th>\n",
       "      <th>text</th>\n",
       "      <th>image_base64</th>\n",
       "    </tr>\n",
       "  </thead>\n",
       "  <tbody>\n",
       "    <tr>\n",
       "      <th>0</th>\n",
       "      <td>&lt;PIL.PngImagePlugin.PngImageFile image mode=L ...</td>\n",
       "      <td>The low quality recording features a ballad so...</td>\n",
       "      <td>/9j/4AAQSkZJRgABAQAAAQABAAD/2wBDAAgGBgcGBQgHBw...</td>\n",
       "    </tr>\n",
       "    <tr>\n",
       "      <th>1</th>\n",
       "      <td>&lt;PIL.PngImagePlugin.PngImageFile image mode=L ...</td>\n",
       "      <td>The low quality recording features a ballad so...</td>\n",
       "      <td>/9j/4AAQSkZJRgABAQAAAQABAAD/2wBDAAgGBgcGBQgHBw...</td>\n",
       "    </tr>\n",
       "    <tr>\n",
       "      <th>2</th>\n",
       "      <td>&lt;PIL.PngImagePlugin.PngImageFile image mode=L ...</td>\n",
       "      <td>The low quality recording features a ballad so...</td>\n",
       "      <td>/9j/4AAQSkZJRgABAQAAAQABAAD/2wBDAAgGBgcGBQgHBw...</td>\n",
       "    </tr>\n",
       "    <tr>\n",
       "      <th>3</th>\n",
       "      <td>&lt;PIL.PngImagePlugin.PngImageFile image mode=L ...</td>\n",
       "      <td>The low quality recording features a ballad so...</td>\n",
       "      <td>/9j/4AAQSkZJRgABAQAAAQABAAD/2wBDAAgGBgcGBQgHBw...</td>\n",
       "    </tr>\n",
       "    <tr>\n",
       "      <th>4</th>\n",
       "      <td>&lt;PIL.PngImagePlugin.PngImageFile image mode=L ...</td>\n",
       "      <td>This song features an electric guitar as the m...</td>\n",
       "      <td>/9j/4AAQSkZJRgABAQAAAQABAAD/2wBDAAgGBgcGBQgHBw...</td>\n",
       "    </tr>\n",
       "  </tbody>\n",
       "</table>\n",
       "</div>"
      ],
      "text/plain": [
       "                                               image  \\\n",
       "0  <PIL.PngImagePlugin.PngImageFile image mode=L ...   \n",
       "1  <PIL.PngImagePlugin.PngImageFile image mode=L ...   \n",
       "2  <PIL.PngImagePlugin.PngImageFile image mode=L ...   \n",
       "3  <PIL.PngImagePlugin.PngImageFile image mode=L ...   \n",
       "4  <PIL.PngImagePlugin.PngImageFile image mode=L ...   \n",
       "\n",
       "                                                text  \\\n",
       "0  The low quality recording features a ballad so...   \n",
       "1  The low quality recording features a ballad so...   \n",
       "2  The low quality recording features a ballad so...   \n",
       "3  The low quality recording features a ballad so...   \n",
       "4  This song features an electric guitar as the m...   \n",
       "\n",
       "                                        image_base64  \n",
       "0  /9j/4AAQSkZJRgABAQAAAQABAAD/2wBDAAgGBgcGBQgHBw...  \n",
       "1  /9j/4AAQSkZJRgABAQAAAQABAAD/2wBDAAgGBgcGBQgHBw...  \n",
       "2  /9j/4AAQSkZJRgABAQAAAQABAAD/2wBDAAgGBgcGBQgHBw...  \n",
       "3  /9j/4AAQSkZJRgABAQAAAQABAAD/2wBDAAgGBgcGBQgHBw...  \n",
       "4  /9j/4AAQSkZJRgABAQAAAQABAAD/2wBDAAgGBgcGBQgHBw...  "
      ]
     },
     "execution_count": 3,
     "metadata": {},
     "output_type": "execute_result"
    }
   ],
   "source": [
    "mono.head()"
   ]
  },
  {
   "cell_type": "code",
   "execution_count": 4,
   "metadata": {},
   "outputs": [],
   "source": [
    "df_mono = mono['text']\n",
    "df_stereo = stereo['text']"
   ]
  },
  {
   "cell_type": "code",
   "execution_count": 5,
   "metadata": {},
   "outputs": [
    {
     "data": {
      "text/plain": [
       "0        The low quality recording features a ballad so...\n",
       "1        The low quality recording features a ballad so...\n",
       "2        The low quality recording features a ballad so...\n",
       "3        The low quality recording features a ballad so...\n",
       "4        This song features an electric guitar as the m...\n",
       "                               ...                        \n",
       "20583    The song is an instrumental. The song is slow ...\n",
       "20584    This is a glitch music piece. There is a synth...\n",
       "20585    This is a glitch music piece. There is a synth...\n",
       "20586    This is a glitch music piece. There is a synth...\n",
       "20587    This is a glitch music piece. There is a synth...\n",
       "Name: text, Length: 20588, dtype: object"
      ]
     },
     "execution_count": 5,
     "metadata": {},
     "output_type": "execute_result"
    }
   ],
   "source": [
    "df_mono"
   ]
  },
  {
   "cell_type": "code",
   "execution_count": 7,
   "metadata": {},
   "outputs": [],
   "source": [
    "# export both to csv\n",
    "# if folder does not exist, create it\n",
    "import os\n",
    "if not os.path.exists('description'):\n",
    "    os.makedirs('description')\n",
    "    \n",
    "df_mono.to_csv('description/mono.csv', index=False)\n",
    "df_stereo.to_csv('description/stereo.csv', index=False)"
   ]
  },
  {
   "cell_type": "code",
   "execution_count": null,
   "metadata": {},
   "outputs": [],
   "source": []
  }
 ],
 "metadata": {
  "kernelspec": {
   "display_name": "Python 3",
   "language": "python",
   "name": "python3"
  },
  "language_info": {
   "codemirror_mode": {
    "name": "ipython",
    "version": 3
   },
   "file_extension": ".py",
   "mimetype": "text/x-python",
   "name": "python",
   "nbconvert_exporter": "python",
   "pygments_lexer": "ipython3",
   "version": "3.9.6"
  },
  "orig_nbformat": 4
 },
 "nbformat": 4,
 "nbformat_minor": 2
}
